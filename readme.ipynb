{
 "cells": [
  {
   "cell_type": "markdown",
   "metadata": {},
   "source": [
    "# System Dynamics: Ebola outbreak 2014 in Nigeria\n",
    "\n",
    "Differential equations are an invaluable tool for modelling and analysis of complex systems. \n",
    "In System Dynamics terminology they model stocks and flows. \n",
    "Unfortunately, their handling is not trivial and outside academia it is not very common to make use of it. \n",
    "However, with just a few lines of code it is possible to plot the functions which allows a straightforward interpretation of the interdependencies.\n",
    "To make this work, the initial conditions and the coefficients of the equations must be known.\n",
    "\n",
    "\n",
    "<a href=\"http://dx.doi.org/10.1016/j.epidem.2015.03.001\">Althaus et al. (2015)</a> estimated coefficients for the following set of differential equations modelling the Ebola outbreak 2014 in Nigeria.\n",
    "\n",
    "\\begin{align}\n",
    "\\frac{\\partial S}{\\partial t} & = -\\beta(t) S I \\\\\n",
    "\\frac{\\partial E}{\\partial t} & = \\beta(t) S I - \\sigma E \\\\\n",
    "\\frac{\\partial I}{\\partial t} & = \\sigma E - \\gamma I \\\\\n",
    "\\frac{\\partial R}{\\partial t} & = (1-f) \\gamma I \\\\\n",
    "\\frac{\\partial D}{\\partial t} & = f \\gamma I \\\\\n",
    "\\end{align}\n",
    "\n",
    "$S$ = susceptible, $E$ = exposed, $I$ = infectious, $R$ = recovered, $D$ = dead\n",
    "\n",
    "<img src=\"https://ars.els-cdn.com/content/image/1-s2.0-S1755436515000341-gr1.jpg\" />\n",
    "\n",
    "These are the coefficients:\n",
    "\n",
    "\\begin{align}\n",
    "\\beta(t) & = \\beta_{0} e^{-k(t - \\tau)} \\\\\n",
    "\\beta_0 & = 1.22 * 10^{-6} \\\\\n",
    "\\sigma & = 0.11 \\\\\n",
    "\\gamma & = 0.13 \\\\\n",
    "f & = 0.39 \\\\\n",
    "\\tau & = 3 \\\\\n",
    "k & = 0.19\n",
    "\\end{align}\n",
    "\n",
    "$\\beta$: transmission rate with infected individuals, \n",
    "$\\gamma$: ‘‘recovery or death’’ rate, \n",
    "$\\sigma$: incubation rate, \n",
    "$f$: case fatality rate, \n",
    "$\\tau$: Time (in days) at which control measures were introduced, \n",
    "k: transmission reduction rate\n",
    "\n",
    "All initial stocks at t=0 are empty except S(0) = $10^{6}$ and I(0) = 1. \n",
    "The development is computed over 100 days. \n",
    "Perhaps surprising is that the recovered become immune to Ebola.\n",
    "\n",
    "The transmission rate ($\\beta$) is expected to be constant until the implementation of control interventions at t=$\\tau$ and exponentionally decaying afterwards. \n",
    "The comparison of the proposed model with one having a constant transmission rate points out the tremendous importance of rapid implementation of control measures in order to reduce the spread of the disease.\n",
    "\n",
    "Reference: <br />\n",
    "Althaus C.L., Low N, Musa E.O., Shuaib F., Gsteiger S. (2015). <a href=\"http://dx.doi.org/10.1016/j.epidem.2015.03.001\">Ebola virus disease outbreak in Nigeria: transmission dynamics and rapid control</a>. Epidemics 11(0): 80–84"
   ]
  }
 ],
 "metadata": {
  "kernelspec": {
   "display_name": "Python 3",
   "language": "python",
   "name": "python3"
  },
  "language_info": {
   "codemirror_mode": {
    "name": "ipython",
    "version": 3
   },
   "file_extension": ".py",
   "mimetype": "text/x-python",
   "name": "python",
   "nbconvert_exporter": "python",
   "pygments_lexer": "ipython3",
   "version": "3.6.4"
  }
 },
 "nbformat": 4,
 "nbformat_minor": 2
}
