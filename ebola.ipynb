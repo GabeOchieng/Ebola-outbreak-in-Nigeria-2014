{
 "cells": [
  {
   "cell_type": "markdown",
   "metadata": {},
   "source": [
    "# System Dynamics: Ebola outbreak in Nigeria 2014\n",
    "\n",
    "Ordinary differential equations (ODEs) are an invaluable tool for modelling and analysis of complex systems. \n",
    "In System dynamics terminology ODEs model stocks and flows. \n",
    "Unfortunately, their handling is not trivial and outside academia it is not very common to make use of it. \n",
    "However, with just a few lines of code it is possible to plot the functions which allows straightforward interpretation of the interdependencies.\n",
    "To make this work, the initial conditions and the coefficients of the equations must be known.\n",
    "\n",
    "\n",
    "<a href=\"http://dx.doi.org/10.1016/j.epidem.2015.03.001\">Althaus et al. (2015)</a> estimated coefficients for the following set of differential equations modelling the Ebola outbreak in Nigeria 2014.\n",
    "\n",
    "\\begin{align}\n",
    "\\frac{\\partial S}{\\partial t} & = -\\beta(t) S I \\\\\n",
    "\\frac{\\partial E}{\\partial t} & = \\beta(t) S I - \\sigma E \\\\\n",
    "\\frac{\\partial I}{\\partial t} & = \\sigma E - \\gamma I \\\\\n",
    "\\frac{\\partial R}{\\partial t} & = (1-f) \\gamma I \\\\\n",
    "\\frac{\\partial D}{\\partial t} & = f \\gamma I \\\\\n",
    "\\end{align}\n",
    "\n",
    "$S$ = susceptible, $E$ = exposed, $I$ = infectious, $R$ = recovered, $D$ = dead\n",
    "\n",
    "<img src=\"https://ars.els-cdn.com/content/image/1-s2.0-S1755436515000341-gr1.jpg\" />\n",
    "\n",
    "These are the coefficients:\n",
    "\n",
    "\\begin{align}\n",
    "\\beta(t) & = \\beta_{0} e^{-k(t - \\tau)} \\\\\n",
    "\\beta_0 & = 1.22 * 10^{-6} \\\\\n",
    "\\sigma & = 0.11 \\\\\n",
    "\\gamma & = 0.13 \\\\\n",
    "f & = 0.39 \\\\\n",
    "\\tau & = 3 \\\\\n",
    "k & = 0.19\n",
    "\\end{align}\n",
    "\n",
    "$\\beta$: transmission rate with infected individuals, \n",
    "$\\gamma$: ‘‘recovery or death’’ rate, \n",
    "$\\sigma$: incubation rate, \n",
    "$f$: case fatality rate, \n",
    "$\\tau$: Time (in days) at which control measures were introduced, \n",
    "k: transmission reduction rate\n",
    "\n",
    "All initial stocks at t=0 are empty except S(0) = $10^{6}$ and I(0) = 1. \n",
    "The development is computed over 100 days. \n",
    "Perhaps surprising is that the recovered become immune to Ebola.\n",
    "\n",
    "The transmission rate ($\\beta$) is expected to be constant until the implementation of control interventions at t=$\\tau$ and exponentionally decaying afterwards. \n",
    "The comparison of the proposed model with one having a constant transmission rate points out the tremendous importance of rapid implementation of control measures in order to reduce the spread of the disease.\n",
    "\n",
    "Reference: <br />\n",
    "Althaus C.L., Low N, Musa E.O., Shuaib F., Gsteiger S. (2015). <a href=\"http://dx.doi.org/10.1016/j.epidem.2015.03.001\">Ebola virus disease outbreak in Nigeria: transmission dynamics and rapid control</a>. Epidemics 11(0): 80–84"
   ]
  },
  {
   "cell_type": "code",
   "execution_count": 1,
   "metadata": {},
   "outputs": [],
   "source": [
    "import numpy as np\n",
    "import matplotlib.pyplot as plt\n",
    "from scipy.integrate import odeint\n",
    "import pandas as pd"
   ]
  },
  {
   "cell_type": "markdown",
   "metadata": {},
   "source": [
    "## 1. Constant transmission rate: $\\beta_0$"
   ]
  },
  {
   "cell_type": "code",
   "execution_count": 2,
   "metadata": {},
   "outputs": [
    {
     "data": {
      "text/html": [
       "<div>\n",
       "<style scoped>\n",
       "    .dataframe tbody tr th:only-of-type {\n",
       "        vertical-align: middle;\n",
       "    }\n",
       "\n",
       "    .dataframe tbody tr th {\n",
       "        vertical-align: top;\n",
       "    }\n",
       "\n",
       "    .dataframe thead th {\n",
       "        text-align: right;\n",
       "    }\n",
       "</style>\n",
       "<table border=\"1\" class=\"dataframe\">\n",
       "  <thead>\n",
       "    <tr style=\"text-align: right;\">\n",
       "      <th></th>\n",
       "      <th>susceptible</th>\n",
       "      <th>exposed</th>\n",
       "      <th>infectious</th>\n",
       "      <th>recovered</th>\n",
       "      <th>dead</th>\n",
       "      <th>days</th>\n",
       "    </tr>\n",
       "  </thead>\n",
       "  <tbody>\n",
       "    <tr>\n",
       "      <th>count</th>\n",
       "      <td>101.000000</td>\n",
       "      <td>101.000000</td>\n",
       "      <td>101.000000</td>\n",
       "      <td>101.000000</td>\n",
       "      <td>101.000000</td>\n",
       "      <td>101.000000</td>\n",
       "    </tr>\n",
       "    <tr>\n",
       "      <th>mean</th>\n",
       "      <td>525607.047351</td>\n",
       "      <td>91478.391308</td>\n",
       "      <td>71344.946014</td>\n",
       "      <td>190058.075350</td>\n",
       "      <td>121512.539978</td>\n",
       "      <td>50.000000</td>\n",
       "    </tr>\n",
       "    <tr>\n",
       "      <th>std</th>\n",
       "      <td>464441.142143</td>\n",
       "      <td>128696.255465</td>\n",
       "      <td>87327.900245</td>\n",
       "      <td>232610.786925</td>\n",
       "      <td>148718.371969</td>\n",
       "      <td>29.300171</td>\n",
       "    </tr>\n",
       "    <tr>\n",
       "      <th>min</th>\n",
       "      <td>154.000689</td>\n",
       "      <td>0.000000</td>\n",
       "      <td>0.932171</td>\n",
       "      <td>0.000000</td>\n",
       "      <td>0.000000</td>\n",
       "      <td>0.000000</td>\n",
       "    </tr>\n",
       "    <tr>\n",
       "      <th>25%</th>\n",
       "      <td>1537.287068</td>\n",
       "      <td>697.216720</td>\n",
       "      <td>199.229624</td>\n",
       "      <td>67.974887</td>\n",
       "      <td>43.459354</td>\n",
       "      <td>25.000000</td>\n",
       "    </tr>\n",
       "    <tr>\n",
       "      <th>50%</th>\n",
       "      <td>687143.412532</td>\n",
       "      <td>22858.443133</td>\n",
       "      <td>28894.010857</td>\n",
       "      <td>25317.965247</td>\n",
       "      <td>16186.895814</td>\n",
       "      <td>50.000000</td>\n",
       "    </tr>\n",
       "    <tr>\n",
       "      <th>75%</th>\n",
       "      <td>998993.119415</td>\n",
       "      <td>138280.811314</td>\n",
       "      <td>128730.716695</td>\n",
       "      <td>437094.196342</td>\n",
       "      <td>279453.666514</td>\n",
       "      <td>75.000000</td>\n",
       "    </tr>\n",
       "    <tr>\n",
       "      <th>max</th>\n",
       "      <td>1000000.000000</td>\n",
       "      <td>419505.411156</td>\n",
       "      <td>260298.086730</td>\n",
       "      <td>592345.031588</td>\n",
       "      <td>378712.397245</td>\n",
       "      <td>100.000000</td>\n",
       "    </tr>\n",
       "  </tbody>\n",
       "</table>\n",
       "</div>"
      ],
      "text/plain": [
       "          susceptible        exposed     infectious      recovered  \\\n",
       "count      101.000000     101.000000     101.000000     101.000000   \n",
       "mean    525607.047351   91478.391308   71344.946014  190058.075350   \n",
       "std     464441.142143  128696.255465   87327.900245  232610.786925   \n",
       "min        154.000689       0.000000       0.932171       0.000000   \n",
       "25%       1537.287068     697.216720     199.229624      67.974887   \n",
       "50%     687143.412532   22858.443133   28894.010857   25317.965247   \n",
       "75%     998993.119415  138280.811314  128730.716695  437094.196342   \n",
       "max    1000000.000000  419505.411156  260298.086730  592345.031588   \n",
       "\n",
       "                dead        days  \n",
       "count     101.000000  101.000000  \n",
       "mean   121512.539978   50.000000  \n",
       "std    148718.371969   29.300171  \n",
       "min         0.000000    0.000000  \n",
       "25%        43.459354   25.000000  \n",
       "50%     16186.895814   50.000000  \n",
       "75%    279453.666514   75.000000  \n",
       "max    378712.397245  100.000000  "
      ]
     },
     "execution_count": 2,
     "metadata": {},
     "output_type": "execute_result"
    }
   ],
   "source": [
    "b = 1.22e-06\n",
    "s = 1/9.31 # 1/(mean incubation period)\n",
    "g = 1/7.41 # 1/(mean infectious period)\n",
    "f = 0.39\n",
    "\n",
    "y0 = [10**6, 0, 1, 0, 0] # initial condition vector: S, E, I, R, D\n",
    "t  = np.linspace(0, 100, 101) # time grid\n",
    "\n",
    "def model(y, t):\n",
    "     S = y[0]\n",
    "     E = y[1]\n",
    "     I = y[2]\n",
    "     R = y[3]\n",
    "     D = y[4]\n",
    "     dS = -b*S*I\n",
    "     dE = b*S*I -s*E\n",
    "     dI = s*E -g*I\n",
    "     dR = (1-f)*g*I\n",
    "     dD = f*g*I\n",
    "     return [dS, dE, dI, dR, dD]\n",
    "\n",
    "soln = odeint(model, y0, t) # solve the DEs\n",
    "\n",
    "dat = pd.DataFrame(soln, columns = ['susceptible', 'exposed', 'infectious', 'recovered', 'dead'])\n",
    "dat = dat.join(pd.DataFrame(t, columns = [\"days\"]))\n",
    "\n",
    "dat.describe()"
   ]
  },
  {
   "cell_type": "code",
   "execution_count": 3,
   "metadata": {},
   "outputs": [
    {
     "data": {
      "text/plain": [
       "Text(0,0.5,'people')"
      ]
     },
     "execution_count": 3,
     "metadata": {},
     "output_type": "execute_result"
    },
    {
     "data": {
      "image/png": "[encoded data removed]",
      "text/plain": [
       "<matplotlib.figure.Figure at 0x2827a3597f0>"
      ]
     },
     "metadata": {},
     "output_type": "display_data"
    }
   ],
   "source": [
    "#plt.rcParams['figure.figsize'] = 12, 7\n",
    "dat.plot(x='days', title='$\\\\beta(t) = \\\\beta_0$').set_ylabel(\"people\")"
   ]
  },
  {
   "cell_type": "markdown",
   "metadata": {},
   "source": [
    "## 2. Time-dependent transmission rate: $\\beta(t) = \\beta_{0} e^{-k(t - \\tau)}$"
   ]
  },
  {
   "cell_type": "code",
   "execution_count": 4,
   "metadata": {},
   "outputs": [
    {
     "data": {
      "text/plain": [
       "Text(0,0.5,'$\\\\beta$')"
      ]
     },
     "execution_count": 4,
     "metadata": {},
     "output_type": "execute_result"
    },
    {
     "data": {
      "image/png": "[encoded data removed]",
      "text/plain": [
       "<matplotlib.figure.Figure at 0x2827c74c518>"
      ]
     },
     "metadata": {},
     "output_type": "display_data"
    }
   ],
   "source": [
    "tau = 3\n",
    "k = 0.19\n",
    "\n",
    "def beta(t):\n",
    "    if t < tau:\n",
    "        return b\n",
    "    else:\n",
    "        return b * np.exp(-k*(t-tau))\n",
    "\n",
    "plt.plot([beta(el) for el in t])\n",
    "plt.xlabel('t')\n",
    "plt.ylabel('$\\\\beta$')"
   ]
  },
  {
   "cell_type": "code",
   "execution_count": 5,
   "metadata": {},
   "outputs": [
    {
     "data": {
      "text/html": [
       "<div>\n",
       "<style scoped>\n",
       "    .dataframe tbody tr th:only-of-type {\n",
       "        vertical-align: middle;\n",
       "    }\n",
       "\n",
       "    .dataframe tbody tr th {\n",
       "        vertical-align: top;\n",
       "    }\n",
       "\n",
       "    .dataframe thead th {\n",
       "        text-align: right;\n",
       "    }\n",
       "</style>\n",
       "<table border=\"1\" class=\"dataframe\">\n",
       "  <thead>\n",
       "    <tr style=\"text-align: right;\">\n",
       "      <th></th>\n",
       "      <th>susceptible</th>\n",
       "      <th>exposed</th>\n",
       "      <th>infectious</th>\n",
       "      <th>recovered</th>\n",
       "      <th>dead</th>\n",
       "      <th>days</th>\n",
       "    </tr>\n",
       "  </thead>\n",
       "  <tbody>\n",
       "    <tr>\n",
       "      <th>count</th>\n",
       "      <td>101.000000</td>\n",
       "      <td>101.000000</td>\n",
       "      <td>101.000000</td>\n",
       "      <td>101.000000</td>\n",
       "      <td>101.000000</td>\n",
       "      <td>101.000000</td>\n",
       "    </tr>\n",
       "    <tr>\n",
       "      <th>mean</th>\n",
       "      <td>999981.764553</td>\n",
       "      <td>1.851835</td>\n",
       "      <td>1.552770</td>\n",
       "      <td>9.656813</td>\n",
       "      <td>6.174028</td>\n",
       "      <td>50.000000</td>\n",
       "    </tr>\n",
       "    <tr>\n",
       "      <th>std</th>\n",
       "      <td>4.543197</td>\n",
       "      <td>2.636075</td>\n",
       "      <td>1.769304</td>\n",
       "      <td>4.352457</td>\n",
       "      <td>2.782719</td>\n",
       "      <td>29.300171</td>\n",
       "    </tr>\n",
       "    <tr>\n",
       "      <th>min</th>\n",
       "      <td>999979.897966</td>\n",
       "      <td>0.000000</td>\n",
       "      <td>0.005258</td>\n",
       "      <td>0.000000</td>\n",
       "      <td>0.000000</td>\n",
       "      <td>0.000000</td>\n",
       "    </tr>\n",
       "    <tr>\n",
       "      <th>25%</th>\n",
       "      <td>999979.897967</td>\n",
       "      <td>0.019699</td>\n",
       "      <td>0.068719</td>\n",
       "      <td>7.364509</td>\n",
       "      <td>4.708457</td>\n",
       "      <td>25.000000</td>\n",
       "    </tr>\n",
       "    <tr>\n",
       "      <th>50%</th>\n",
       "      <td>999979.898403</td>\n",
       "      <td>0.288311</td>\n",
       "      <td>0.763721</td>\n",
       "      <td>12.210361</td>\n",
       "      <td>7.806624</td>\n",
       "      <td>50.000000</td>\n",
       "    </tr>\n",
       "    <tr>\n",
       "      <th>75%</th>\n",
       "      <td>999980.249639</td>\n",
       "      <td>3.075743</td>\n",
       "      <td>2.785025</td>\n",
       "      <td>12.816943</td>\n",
       "      <td>8.194439</td>\n",
       "      <td>75.000000</td>\n",
       "    </tr>\n",
       "    <tr>\n",
       "      <th>max</th>\n",
       "      <td>1000000.000000</td>\n",
       "      <td>8.063181</td>\n",
       "      <td>5.192525</td>\n",
       "      <td>12.868121</td>\n",
       "      <td>8.227159</td>\n",
       "      <td>100.000000</td>\n",
       "    </tr>\n",
       "  </tbody>\n",
       "</table>\n",
       "</div>"
      ],
      "text/plain": [
       "          susceptible     exposed  infectious   recovered        dead  \\\n",
       "count      101.000000  101.000000  101.000000  101.000000  101.000000   \n",
       "mean    999981.764553    1.851835    1.552770    9.656813    6.174028   \n",
       "std          4.543197    2.636075    1.769304    4.352457    2.782719   \n",
       "min     999979.897966    0.000000    0.005258    0.000000    0.000000   \n",
       "25%     999979.897967    0.019699    0.068719    7.364509    4.708457   \n",
       "50%     999979.898403    0.288311    0.763721   12.210361    7.806624   \n",
       "75%     999980.249639    3.075743    2.785025   12.816943    8.194439   \n",
       "max    1000000.000000    8.063181    5.192525   12.868121    8.227159   \n",
       "\n",
       "             days  \n",
       "count  101.000000  \n",
       "mean    50.000000  \n",
       "std     29.300171  \n",
       "min      0.000000  \n",
       "25%     25.000000  \n",
       "50%     50.000000  \n",
       "75%     75.000000  \n",
       "max    100.000000  "
      ]
     },
     "execution_count": 5,
     "metadata": {},
     "output_type": "execute_result"
    }
   ],
   "source": [
    "def model(y, t):\n",
    "    S = y[0]\n",
    "    E = y[1]\n",
    "    I = y[2]\n",
    "    R = y[3]\n",
    "    D = y[4]\n",
    "    dS = -beta(t)*S*I\n",
    "    dE = beta(t)*S*I -s*E\n",
    "    dI = s*E -g*I\n",
    "    dR = (1-f)*g*I\n",
    "    dD = f*g*I\n",
    "    return [dS, dE, dI, dR, dD]\n",
    "\n",
    "soln = odeint(model, y0, t)\n",
    "\n",
    "dat = pd.DataFrame(soln, columns = ['susceptible', 'exposed', 'infectious', 'recovered', 'dead'])\n",
    "dat = dat.join(pd.DataFrame(t, columns = [\"days\"]))\n",
    "\n",
    "dat.describe()"
   ]
  },
  {
   "cell_type": "code",
   "execution_count": 6,
   "metadata": {},
   "outputs": [
    {
     "data": {
      "text/plain": [
       "Text(0,0.5,'people')"
      ]
     },
     "execution_count": 6,
     "metadata": {},
     "output_type": "execute_result"
    },
    {
     "data": {
      "image/png": "[encoded data removed]",
      "text/plain": [
       "<matplotlib.figure.Figure at 0x2827d779048>"
      ]
     },
     "metadata": {},
     "output_type": "display_data"
    }
   ],
   "source": [
    "dat.drop('susceptible', 1).plot(x='days').set_ylabel(\"people\")"
   ]
  }
 ],
 "metadata": {
  "kernelspec": {
   "display_name": "Python 3",
   "language": "python",
   "name": "python3"
  },
  "language_info": {
   "codemirror_mode": {
    "name": "ipython",
    "version": 3
   },
   "file_extension": ".py",
   "mimetype": "text/x-python",
   "name": "python",
   "nbconvert_exporter": "python",
   "pygments_lexer": "ipython3",
   "version": "3.6.4"
  }
 },
 "nbformat": 4,
 "nbformat_minor": 2
}
