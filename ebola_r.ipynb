{
 "cells": [
  {
   "cell_type": "markdown",
   "metadata": {},
   "source": [
    "# System Dynamics: Ebola outbreak in Nigeria 2014\n",
    "\n",
    "Ordinary differential equations (ODEs) are an invaluable tool for modelling and analysis of complex systems. \n",
    "In system dynamics terminology ODEs model stocks and flows. \n",
    "Unfortunately, their handling is not trivial and outside of academia it is not commonly used. \n",
    "However, with just a few lines of code it is possible to plot the functions which allow straightforward interpretation of the interdependencies.\n",
    "In order to make this work, the initial conditions and the coefficients of the equations must be known.\n",
    "\n",
    "\n",
    "<a href=\"http://dx.doi.org/10.1016/j.epidem.2015.03.001\">Althaus et al. (2015)</a> estimated coefficients for the following set of differential equations modelling the Ebola outbreak in Nigeria 2014.\n",
    "\n",
    "\\begin{align}\n",
    "\\frac{\\partial S}{\\partial t} & = -\\beta(t) S I \\\\\n",
    "\\frac{\\partial E}{\\partial t} & = \\beta(t) S I - \\sigma E \\\\\n",
    "\\frac{\\partial I}{\\partial t} & = \\sigma E - \\gamma I \\\\\n",
    "\\frac{\\partial R}{\\partial t} & = (1-f) \\gamma I \\\\\n",
    "\\frac{\\partial D}{\\partial t} & = f \\gamma I \\\\\n",
    "\\end{align}\n",
    "\n",
    "$S$ = susceptible, $E$ = exposed, $I$ = infectious, $R$ = recovered, $D$ = dead\n",
    "\n",
    "<img src=\"https://ars.els-cdn.com/content/image/1-s2.0-S1755436515000341-gr1.jpg\" />\n",
    "\n",
    "These are the coefficients:\n",
    "\n",
    "\\begin{align}\n",
    "\\beta(t) & = \\beta_{0} e^{-k(t - \\tau)} \\\\\n",
    "\\beta_0 & = 1.22 * 10^{-6} \\\\\n",
    "\\sigma & = 0.11 \\\\\n",
    "\\gamma & = 0.13 \\\\\n",
    "f & = 0.39 \\\\\n",
    "\\tau & = 3 \\\\\n",
    "k & = 0.19\n",
    "\\end{align}\n",
    "\n",
    "$\\beta$: transmission rate with infected individuals, \n",
    "$\\gamma$: ‘‘recovery or death’’ rate, \n",
    "$\\sigma$: incubation rate, \n",
    "$f$: case fatality rate, \n",
    "$\\tau$: Time (in days) at which control measures were introduced, \n",
    "k: transmission reduction rate\n",
    "\n",
    "All initial stocks at $t=0$ are empty except the initial number of susceptible individuals $S(0)$ is 10<sup>6</sup> and the initial number of infectious individuals $I(0)$ is 1.\n",
    "The development is computed over 100 days ($t$). \n",
    "Surprisingly, individuals who recovered from Ebola develop immunity. \n",
    "\n",
    "The transmission rate ($\\beta$) is expected only to be constant until the implementation of control interventions at t=$\\tau$ and exponentially decaying afterwards. \n",
    "Comparing the proposed model with one having a constant transmission rate points out the tremendous importance of rapid implementation of control measures in order to reduce the spread of the disease.\n",
    "\n",
    "Reference: <br />\n",
    "Althaus C.L., Low N, Musa E.O., Shuaib F., Gsteiger S. (2015). <a href=\"http://dx.doi.org/10.1016/j.epidem.2015.03.001\">Ebola virus disease outbreak in Nigeria: transmission dynamics and rapid control</a>. Epidemics 11(0): 80–84"
   ]
  },
  {
   "cell_type": "code",
   "execution_count": 2,
   "metadata": {},
   "outputs": [],
   "source": [
    "library(deSolve) # ode\n",
    "library(ggplot2)\n",
    "library(dplyr) # rename, %>% \n",
    "library(tidyr) # gather\n",
    "options(repr.plot.width=7, repr.plot.height=4) # just for Jupytr"
   ]
  },
  {
   "cell_type": "markdown",
   "metadata": {},
   "source": [
    "## 1. Constant transmission rate: $\\beta_0$"
   ]
  },
  {
   "cell_type": "code",
   "execution_count": 3,
   "metadata": {},
   "outputs": [
    {
     "data": {},
     "metadata": {},
     "output_type": "display_data"
    },
    {
     "data": {
      "image/png": "[encoded data removed]",
      "text/plain": [
       "plot without title"
      ]
     },
     "metadata": {},
     "output_type": "display_data"
    }
   ],
   "source": [
    "model <- function(time, state, parameters) {\n",
    "  with(as.list(c(state, parameters)), {\n",
    "    dS = -b*S*I -a*S*D\n",
    "    dE = b*S*I +a*S*D -s*E\n",
    "    dI = s*E - g*I\n",
    "    dR = (1-f)*g*I\n",
    "    dD = f*g*I\n",
    "    return(list(c(dS, dE, dI, dR, dD)))\n",
    "  })\n",
    "}\n",
    "\n",
    "table <- ode(func = model,\n",
    "           y = c(S=1000000, E=0, I=1, R=0, D=0), # stocks t=0\n",
    "           parms = c(a=0, b=1.22e-06, s=1/9.31, g=1/7.41, f=0.39),\n",
    "           times = seq(0, 100, by = 1)) %>% as.data.frame\n",
    "\n",
    "table %>% \n",
    "  rename(susceptible=S, exposed=E, infectious=I, recovered=R, dead=D) %>% # rename(newname = oldname)\n",
    "  gather(key=\"group\", value=\"people\", -time) %>% # long-format\n",
    "  ggplot(aes(x=time, y=people, col=group)) +\n",
    "    geom_line() +\n",
    "    geom_point() +\n",
    "    theme_minimal() +\n",
    "    xlab(\"days\") +\n",
    "    theme(legend.title=element_blank())"
   ]
  },
  {
   "cell_type": "markdown",
   "metadata": {},
   "source": [
    "## 2. Time-dependent transmission rate: $\\beta(t) = \\beta_{0} e^{-k(t - \\tau)}$"
   ]
  },
  {
   "cell_type": "code",
   "execution_count": 4,
   "metadata": {},
   "outputs": [
    {
     "data": {},
     "metadata": {},
     "output_type": "display_data"
    },
    {
     "data": {
      "image/png": "[encoded data removed]",
      "text/plain": [
       "plot without title"
      ]
     },
     "metadata": {},
     "output_type": "display_data"
    }
   ],
   "source": [
    "beta <- function(t, b, tau, k){\n",
    "  ifelse(t < tau, b, b*exp(-k*(t-tau)))\n",
    "}\n",
    "\n",
    "# beta(t=c(0:100), b=1.22e-06, tau=3, k=0.19) %>% plot(type=\"l\")\n",
    "\n",
    "model <- function(time, state, parameters) {\n",
    "  with(as.list(c(state, parameters)), {\n",
    "    dS = -beta(time, b, tau, k)*S*I -a*S*D\n",
    "    dE = beta(time, b, tau, k)*S*I +a*S*D -s*E\n",
    "    dI = s*E - g*I\n",
    "    dR = (1-f)*g*I\n",
    "    dD = f*g*I\n",
    "    return(list(c(dS, dE, dI, dR, dD)))\n",
    "  })\n",
    "}\n",
    "\n",
    "table <- ode(func = model,\n",
    "             y = c(S=1000000, E=0, I=1, R=0, D=0),\n",
    "             parms = c(a=0, b=1.22e-06, s=1/9.31, g=1/7.41, f=0.39, tau=3, k=0.19),\n",
    "             times = seq(0, 100, by = 1)) %>% as.data.frame\n",
    "\n",
    "table %>% \n",
    "  rename(susceptible=S, exposed=E, infectious=I, recovered=R, dead=D) %>%\n",
    "  select(-susceptible) %>%\n",
    "  gather(key=\"group\", value=\"people\", -time) %>%\n",
    "  ggplot(aes(x=time, y=people, col=group)) +\n",
    "    geom_line() +\n",
    "    geom_point() +\n",
    "    theme_minimal() +\n",
    "    xlab(\"days\") +\n",
    "    theme(legend.title=element_blank())"
   ]
  }
 ],
 "metadata": {
  "kernelspec": {
   "display_name": "R",
   "language": "R",
   "name": "ir"
  },
  "language_info": {
   "codemirror_mode": "r",
   "file_extension": ".r",
   "mimetype": "text/x-r-source",
   "name": "R",
   "pygments_lexer": "r",
   "version": "3.4.3"
  }
 },
 "nbformat": 4,
 "nbformat_minor": 2
}
